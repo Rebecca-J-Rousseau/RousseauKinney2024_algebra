{
 "cells": [
  {
   "cell_type": "code",
   "id": "84451bcd-e7bd-4514-8fc5-e900196c346d",
   "metadata": {
    "editable": true,
    "slideshow": {
     "slide_type": ""
    },
    "tags": [],
    "jupyter": {
     "is_executing": true
    }
   },
   "source": [
    "# My code\n",
    "import fast_gillespie as fg\n",
    "import fast_gillespie_viz2 as fgv"
   ],
   "outputs": [],
   "execution_count": null
  },
  {
   "metadata": {},
   "cell_type": "code",
   "source": [
    "#Define cooperative binding trimer\n",
    "\n",
    "# Rates in terms of interpretable quantities\n",
    "mean_num_A_monomers = 100.0\n",
    "mean_num_B_monomers = 100.0  \n",
    "interaction_param = 100.0\n",
    "rate1p = mean_num_A_monomers\n",
    "rate1m = 1.0\n",
    "rate2p = mean_num_B_monomers\n",
    "rate2m = 1.0\n",
    "rate3p = interaction_param/(2*mean_num_A_monomers*mean_num_B_monomers)\n",
    "rate3m = 1.0\n",
    "\n",
    "# Print out rate-determining quantities\n",
    "print('mean_num_A_monomers = ', mean_num_A_monomers)\n",
    "print('mean_num_B_monomers = ', mean_num_B_monomers)\n",
    "print('interaction_param = ', interaction_param)\n",
    "\n",
    "# Create fields\n",
    "A = fg.Field(name='A', index_dim=1)\n",
    "B = fg.Field(name='B', index_dim=1)\n",
    "a = fg.Field(name='a', index_dim=1)\n",
    "b = fg.Field(name='b', index_dim=1)\n",
    "c = fg.Field(name='c', index_dim=1)\n",
    "d = fg.Field(name='d', index_dim=1)\n",
    "J = fg.Field(name='J', index_dim=2)\n",
    "K = fg.Field(name='K', index_dim=2)\n",
    "\n",
    "# Create/annihilate A monomer\n",
    "R_1p = fg.MonomerCreationRule(name='R_1p', rate=rate1p, particle=A, sites=[a,b])\n",
    "R_1m = fg.MonomerAnnihilationRule(name='R_1m', rate=rate1m, particle=A, sites=[a,b])\n",
    "\n",
    "# Create/annihilate B monomer\n",
    "R_2p = fg.MonomerCreationRule(name='R_2p', rate=rate2p, particle=B, sites=[c,d])\n",
    "R_2m = fg.MonomerAnnihilationRule(name='R_2m', rate=rate2m, particle=B, sites=[c,d])\n",
    "\n",
    "# Create/annihilate J_A:a_B:c\n",
    "R_3p1 = fg.HeterotypicInteractionCreationRule(name='R_3p1', rate=rate3p, A=A, B=B, a=a, b=c, J=J)\n",
    "R_3m1 = fg.HeterotypicInteractionAnnihilationRule(name='R_3m1', rate=rate3m, A=A, B=B, a=a, b=c, J=J)    \n",
    "\n",
    "# Create/annihilate K_B:d_A:b\n",
    "R_3p2 = fg.HeterotypicInteractionCreationRule(name='R_3p2', rate=rate3p, A=B, B=A, a=d, b=b, J=K)\n",
    "R_3m2 = fg.HeterotypicInteractionAnnihilationRule(name='R_3m2', rate=rate3m, A=B, B=A, a=d, b=b, J=K) \n",
    "\n",
    "# Define fock space and rules\n",
    "space = fg.FockSpace(fields=[A, B, a, b, c, d, J, K])\n",
    "rules = fg.RuleSet(rules=[R_1p, R_1m, R_2p, R_2m, R_3p1, R_3m1, R_3p2, R_3m2])"
   ],
   "id": "9ecea09c764fde2a",
   "outputs": [],
   "execution_count": null
  },
  {
   "metadata": {},
   "cell_type": "code",
   "source": [
    "def summary_stats_func():\n",
    "    stats_dict = dict(\n",
    "        A_monomers=len(A.indices - (a.indices | b.indices)),\n",
    "        B_monomers=len(B.indices - (c.indices | d.indices)),\n",
    "        interactions=len(J.indices) + len(K.indices)\n",
    "    )\n",
    "    return stats_dict\n",
    "\n",
    "# Define, initialize, and run simulation\n",
    "sim = fg.Simulation(space=space, rules=rules, custom_stats_func=summary_stats_func)\n",
    "sim.initialize_state()\n",
    "sim.run(num_steps=30_000, record_every=100)\n",
    "\n",
    "# Show simulation stats\n",
    "fgv.show_sim_stats(sim, x_is_time=True)"
   ],
   "id": "6ec27550178f81fc",
   "outputs": [],
   "execution_count": null
  },
  {
   "metadata": {},
   "cell_type": "code",
   "source": "",
   "id": "fb516a915da0ccf",
   "outputs": [],
   "execution_count": null
  }
 ],
 "metadata": {
  "kernelspec": {
   "display_name": "base",
   "language": "python",
   "name": "base"
  },
  "language_info": {
   "codemirror_mode": {
    "name": "ipython",
    "version": 3
   },
   "file_extension": ".py",
   "mimetype": "text/x-python",
   "name": "python",
   "nbconvert_exporter": "python",
   "pygments_lexer": "ipython3",
   "version": "3.11.8"
  }
 },
 "nbformat": 4,
 "nbformat_minor": 5
}
