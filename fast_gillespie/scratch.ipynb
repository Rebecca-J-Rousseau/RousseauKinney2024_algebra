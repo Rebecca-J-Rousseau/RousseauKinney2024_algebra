{
 "cells": [
  {
   "cell_type": "code",
   "execution_count": 4,
   "id": "6c08fdb0",
   "metadata": {},
   "outputs": [
    {
     "name": "stdout",
     "output_type": "stream",
     "text": [
      "name:  R\n",
      "rate:  1.0\n",
      "index_spec:  ((0,), (1,), (0,), (1,), (0, 1), (0, 1, 2))\n",
      "index_dim:  3\n",
      "index_pos_dict:  {'i': 0, 'j': 1, 'k': 2}\n",
      "A_bar i (0,)\n",
      "A_bar j (1,)\n",
      "a_hat i (0,)\n",
      "b_bar j (1,)\n",
      "I_hat ij (0, 1)\n",
      "J_hat ijk (0, 1, 2)\n",
      "\n",
      "name:  R_conj\n",
      "rate:  R_conj\n",
      "index_spec:  ((0,), (1,), (0,), (1,), (0, 1), (0, 1, 2))\n",
      "index_dim:  3\n",
      "index_pos_dict:  {'i': 0, 'j': 1, 'k': 2}\n",
      "A_bar i (0,)\n",
      "A_bar j (1,)\n",
      "a_check i (0,)\n",
      "b_bar j (1,)\n",
      "I_check ij (0, 1)\n",
      "J_check ijk (0, 1, 2)\n",
      "\n"
     ]
    },
    {
     "ename": "AssertionError",
     "evalue": "Particle rule must have a single index",
     "output_type": "error",
     "traceback": [
      "\u001b[0;31m---------------------------------------------------------------------------\u001b[0m",
      "\u001b[0;31mAssertionError\u001b[0m                            Traceback (most recent call last)",
      "Cell \u001b[0;32mIn[4], line 26\u001b[0m\n\u001b[1;32m     23\u001b[0m Q \u001b[38;5;241m=\u001b[39m R\u001b[38;5;241m.\u001b[39mget_conjugate_rule(name\u001b[38;5;241m=\u001b[39m\u001b[38;5;124m'\u001b[39m\u001b[38;5;124mR_conj\u001b[39m\u001b[38;5;124m'\u001b[39m, rate\u001b[38;5;241m=\u001b[39m\u001b[38;5;241m1.0\u001b[39m)\n\u001b[1;32m     24\u001b[0m print_rule_info(Q)\n\u001b[0;32m---> 26\u001b[0m P \u001b[38;5;241m=\u001b[39m fg\u001b[38;5;241m.\u001b[39mParticleRule2(name\u001b[38;5;241m=\u001b[39m\u001b[38;5;124m'\u001b[39m\u001b[38;5;124mP\u001b[39m\u001b[38;5;124m'\u001b[39m, \n\u001b[1;32m     27\u001b[0m                     rate\u001b[38;5;241m=\u001b[39m\u001b[38;5;241m1.0\u001b[39m, \n\u001b[1;32m     28\u001b[0m                     spec_str\u001b[38;5;241m=\u001b[39m\u001b[38;5;124m'\u001b[39m\u001b[38;5;124mA_hat_i a_tilde_i b_tilde_j\u001b[39m\u001b[38;5;124m'\u001b[39m, \n\u001b[1;32m     29\u001b[0m                     fock_space\u001b[38;5;241m=\u001b[39mspace)\n\u001b[1;32m     30\u001b[0m print_rule_info(P)\n",
      "File \u001b[0;32m~/github/RousseauKinney2024_algebra/fast_gillespie/fast_gillespie.py:876\u001b[0m, in \u001b[0;36mParticleRule2.__init__\u001b[0;34m(self, *args, **kwargs)\u001b[0m\n\u001b[1;32m    873\u001b[0m \u001b[38;5;66;03m# Call superclass constructor with field ops, etc\u001b[39;00m\n\u001b[1;32m    874\u001b[0m \u001b[38;5;28msuper\u001b[39m()\u001b[38;5;241m.\u001b[39m\u001b[38;5;21m__init__\u001b[39m(\u001b[38;5;241m*\u001b[39margs, \u001b[38;5;241m*\u001b[39m\u001b[38;5;241m*\u001b[39mkwargs)\n\u001b[0;32m--> 876\u001b[0m \u001b[38;5;28;01massert\u001b[39;00m \u001b[38;5;28mself\u001b[39m\u001b[38;5;241m.\u001b[39mindex_dim \u001b[38;5;241m==\u001b[39m \u001b[38;5;241m1\u001b[39m, \u001b[38;5;124m'\u001b[39m\u001b[38;5;124mParticle rule must have a single index\u001b[39m\u001b[38;5;124m'\u001b[39m\n",
      "\u001b[0;31mAssertionError\u001b[0m: Particle rule must have a single index"
     ]
    }
   ],
   "source": [
    "import fast_gillespie as fg\n",
    "\n",
    "\n",
    "# Print rule info\n",
    "def print_rule_info(R):\n",
    "    print('name: ', R.name)\n",
    "    print('rate: ', R.rate)\n",
    "    print('index_spec: ', R.index_spec)\n",
    "    print('index_dim: ', R.index_dim)\n",
    "    print('index_pos_dict: ', R.index_pos_dict)\n",
    "    for op in R.field_ops:\n",
    "        print(op.name, op.index_name, op.index_spec) \n",
    "    print('')\n",
    "\n",
    "space = fg.FockSpace() \n",
    "\n",
    "R = fg.Rule2(name='R', \n",
    "             rate=1.0, \n",
    "             spec_str='A_bar_i A_bar_j a_hat_i b_bar_j I_hat_ij J_hat_ijk', \n",
    "             fock_space=space) \n",
    "print_rule_info(R)\n",
    "\n",
    "Q = R.get_conjugate_rule(name='R_conj', rate=1.0)\n",
    "print_rule_info(Q)\n",
    "\n",
    "P = fg.ParticleRule2(name='P', \n",
    "                    rate=1.0, \n",
    "                    spec_str='A_hat_i a_tilde_i b_tilde_j', \n",
    "                    fock_space=space)\n",
    "print_rule_info(P)\n"
   ]
  },
  {
   "cell_type": "code",
   "execution_count": null,
   "id": "9ecb4646",
   "metadata": {},
   "outputs": [],
   "source": []
  }
 ],
 "metadata": {
  "kernelspec": {
   "display_name": "base",
   "language": "python",
   "name": "python3"
  },
  "language_info": {
   "codemirror_mode": {
    "name": "ipython",
    "version": 3
   },
   "file_extension": ".py",
   "mimetype": "text/x-python",
   "name": "python",
   "nbconvert_exporter": "python",
   "pygments_lexer": "ipython3",
   "version": "3.11.8"
  }
 },
 "nbformat": 4,
 "nbformat_minor": 5
}
