{
 "cells": [
  {
   "cell_type": "markdown",
   "id": "32e6a1f2",
   "metadata": {},
   "source": [
    "© 2024 Rebecca J. Rousseau and Justin B. Kinney, *Algebraic and diagrammatic methods for the rule-based modeling of multi-particle complexes*. This work is licensed under a [Creative Commons Attribution License CC-BY 4.0](https://creativecommons.org/licenses/by/4.0/). All code contained herein is licensed under an [MIT license](https://opensource.org/licenses/MIT).\n",
    "___\n",
    "\n",
    "# Deterministic simulation for homodimer system"
   ]
  },
  {
   "cell_type": "code",
   "execution_count": 1,
   "id": "eeb474bb",
   "metadata": {
    "ExecuteTime": {
     "end_time": "2023-01-25T18:04:36.220146Z",
     "start_time": "2023-01-25T18:04:35.868243Z"
    }
   },
   "outputs": [],
   "source": [
    "import numpy as np\n",
    "from itertools import combinations\n",
    "from scipy import sparse, linalg"
   ]
  },
  {
   "cell_type": "code",
   "execution_count": 2,
   "id": "bd485af3",
   "metadata": {
    "ExecuteTime": {
     "end_time": "2023-01-25T18:04:36.290986Z",
     "start_time": "2023-01-25T18:04:36.283835Z"
    }
   },
   "outputs": [],
   "source": [
    "# Define \"dictionary\" of mathematical operators tracking field formation (hat), degradation (check), presence (bar),\n",
    "# and absence (tilde), as well as identity (id) and \"zero\" (zero) operators.\n",
    "\n",
    "mat_dict = dict(\n",
    "    hat=sparse.csr_matrix(np.array([[0, 1], [0, 0]])),\n",
    "    bar=sparse.csr_matrix(np.array([[1, 0], [0, 0]])),\n",
    "    tilde=sparse.csr_matrix(np.array([[0, 0], [0, 1]])),\n",
    "    check=sparse.csr_matrix(np.array([[0, 0], [1, 0]])),\n",
    "    id=sparse.csr_matrix(np.array([[1, 0], [0, 1]])),\n",
    "    zero=sparse.csr_matrix(np.array([[0, 0], [0, 0]]))\n",
    ")"
   ]
  },
  {
   "cell_type": "code",
   "execution_count": 3,
   "id": "e043839b",
   "metadata": {
    "ExecuteTime": {
     "end_time": "2023-01-25T18:04:36.797091Z",
     "start_time": "2023-01-25T18:04:36.782504Z"
    }
   },
   "outputs": [],
   "source": [
    "def multikron(mat_list):\n",
    "    \"\"\"Computes Kronecker product of multiple matrices\"\"\"\n",
    "    n = len(mat_list)\n",
    "    assert n>0\n",
    "    out_mat = mat_list[0]\n",
    "    for mat in mat_list[1:]:\n",
    "        out_mat = sparse.kron(out_mat, mat, format='csc')\n",
    "    return out_mat"
   ]
  },
  {
   "cell_type": "code",
   "execution_count": 4,
   "id": "a1356987",
   "metadata": {
    "ExecuteTime": {
     "end_time": "2023-01-25T18:04:37.221903Z",
     "start_time": "2023-01-25T18:04:37.215961Z"
    }
   },
   "outputs": [],
   "source": [
    "N = 4 # Total number of possible monomer internal states\n",
    "K = int(2*N + N*(N-1)/2) # Total number of mode operator fields\n",
    "r_A_cre = 2 # Rate of monomer creation\n",
    "r_A_deg = 2 # Rate of monomer degradation\n",
    "r_I_cre = 0.5 # Rate of bond formation\n",
    "r_I_deg = 1 # Rate of bond degradation"
   ]
  },
  {
   "cell_type": "code",
   "execution_count": 5,
   "id": "29b610e5",
   "metadata": {
    "ExecuteTime": {
     "end_time": "2023-01-25T18:04:37.722921Z",
     "start_time": "2023-01-25T18:04:37.714224Z"
    }
   },
   "outputs": [],
   "source": [
    "# A_i: k = 1 .. N (monomer mode operators)\n",
    "# a_i: k = N+1 .. 2N (monomer binding site mode operators)\n",
    "# I_ij: k = 2N+1 .. 2N+N(N-1)/2 (bond mode operators)\n",
    "\n",
    "### Create single-digit index for each bond type:\n",
    "\n",
    "# Define all possible monomer index bond pairs\n",
    "\n",
    "ij_list = [(i,j) for i in range(N) for j in range(N) if j > i]\n",
    "\n",
    "# Assign index bond pair to a single-digit index label\n",
    "\n",
    "dk_to_ij_dict = dict([(dk, ij) for dk, ij in enumerate(ij_list)])\n",
    "\n",
    "ij_to_dk_dict = dict(zip(dk_to_ij_dict.values(), dk_to_ij_dict.keys()))"
   ]
  },
  {
   "cell_type": "code",
   "execution_count": 6,
   "id": "4cf4cece",
   "metadata": {
    "ExecuteTime": {
     "end_time": "2023-01-25T18:04:38.238560Z",
     "start_time": "2023-01-25T18:04:38.195869Z"
    }
   },
   "outputs": [],
   "source": [
    "def op(field_name, field_type, field_index):\n",
    "    if field_name=='A':\n",
    "        i = field_index\n",
    "        k = i\n",
    "    \n",
    "    elif field_name=='a':\n",
    "        i = field_index\n",
    "        k = N+i\n",
    "        \n",
    "    elif field_name=='I':\n",
    "        i,j = field_index\n",
    "        k = 2*N + ij_to_dk_dict[(i,j)]\n",
    "        \n",
    "    return multikron([mat_dict[field_type] if l==k else mat_dict['id'] for l in range(K)])"
   ]
  },
  {
   "cell_type": "code",
   "execution_count": 7,
   "id": "83c5989b",
   "metadata": {
    "ExecuteTime": {
     "end_time": "2023-01-25T18:04:39.148852Z",
     "start_time": "2023-01-25T18:04:38.866285Z"
    }
   },
   "outputs": [],
   "source": [
    "# Compute transition operator W\n",
    "\n",
    "W = multikron([mat_dict['zero']]*K)\n",
    "for i in range(N):\n",
    "    W += r_A_cre*(op('A','hat',i) - op('A','tilde',i))*op('a','tilde',i) + \\\n",
    "         r_A_deg*(op('A','check',i) - op('A','bar',i))*op('a','tilde',i)\n",
    "for i in range(N):\n",
    "    for j in range(N):\n",
    "        if i < j:\n",
    "            W += r_I_cre*(op('I','hat',(i,j))*op('a','hat',i)*op('a','hat',j)-\\\n",
    "                          op('I','tilde',(i,j))*op('a','tilde',i)*op('a','tilde',j))*\\\n",
    "                              op('A','bar',i)*op('A','bar',j) + \\\n",
    "                 r_I_deg*(op('I','check',(i,j))*op('a','check',i)*op('a','check',j) -\\\n",
    "                          op('I','bar',(i,j))*op('a','bar',i)*op('a','bar',j))*\\\n",
    "                              op('A','bar',i)*op('A','bar',j)"
   ]
  },
  {
   "cell_type": "code",
   "execution_count": 8,
   "id": "456c332f",
   "metadata": {
    "ExecuteTime": {
     "end_time": "2023-01-25T18:06:01.711754Z",
     "start_time": "2023-01-25T18:06:01.641282Z"
    }
   },
   "outputs": [],
   "source": [
    "# Compute A counting matrix\n",
    "\n",
    "A_bar = multikron([mat_dict['zero']]*K)\n",
    "for i in range(N):\n",
    "    A_bar += op('a','tilde',i)*op('A','bar',i)  # count free (unbound) monomers"
   ]
  },
  {
   "cell_type": "code",
   "execution_count": 9,
   "id": "24d34721",
   "metadata": {
    "ExecuteTime": {
     "end_time": "2023-01-25T18:04:40.523039Z",
     "start_time": "2023-01-25T18:04:40.441677Z"
    }
   },
   "outputs": [],
   "source": [
    "# Compute I counting matrix\n",
    "\n",
    "I_bar = multikron([mat_dict['zero']]*K)\n",
    "for i in range(N):\n",
    "    for j in range(N):\n",
    "        if i < j: #if i < j\n",
    "            I_bar += op('I','bar',(i,j))*op('a','bar',i)*op('a','bar',j)*op('A','bar',i)*op('A','bar',j)"
   ]
  },
  {
   "cell_type": "code",
   "execution_count": 10,
   "id": "60846129",
   "metadata": {
    "ExecuteTime": {
     "end_time": "2023-01-25T18:04:58.388284Z",
     "start_time": "2023-01-25T18:04:58.367191Z"
    }
   },
   "outputs": [],
   "source": [
    "# Construct ground state vector\n",
    "\n",
    "ground_el = sparse.csc_matrix(np.array([0, 1]))\n",
    "ground_state = multikron([ground_el]*K)\n",
    "ground_state = ground_state.toarray().squeeze()"
   ]
  },
  {
   "cell_type": "code",
   "execution_count": 11,
   "id": "ad155dcf",
   "metadata": {},
   "outputs": [],
   "source": [
    "# Construct sum vector\n",
    "\n",
    "sum_vec = np.ones(2**K).T"
   ]
  },
  {
   "cell_type": "code",
   "execution_count": 12,
   "id": "904b8a09",
   "metadata": {
    "ExecuteTime": {
     "end_time": "2023-01-25T18:04:59.623838Z",
     "start_time": "2023-01-25T18:04:59.436294Z"
    }
   },
   "outputs": [],
   "source": [
    "# Compute evolving system state function\n",
    "\n",
    "from scipy.sparse.linalg import expm_multiply\n",
    "t_stop = 10\n",
    "num_timepoints = 2001\n",
    "psi_array = expm_multiply(W,ground_state.T,start=0.0, stop=t_stop, num=num_timepoints)"
   ]
  },
  {
   "cell_type": "code",
   "execution_count": 13,
   "id": "dafc7c51",
   "metadata": {
    "ExecuteTime": {
     "end_time": "2023-01-25T18:08:32.506835Z",
     "start_time": "2023-01-25T18:08:32.476079Z"
    }
   },
   "outputs": [],
   "source": [
    "# Compute the number of monomers (\"A\" count) and homodimers (\"I\" bond count) at times t\n",
    "\n",
    "A_of_t = np.zeros(num_timepoints)\n",
    "I_of_t = np.zeros(num_timepoints)\n",
    "for t in range(num_timepoints):\n",
    "    psi_t = psi_array[t,:]\n",
    "    A_of_t[t] = sum_vec.dot(A_bar.dot(psi_t))\n",
    "    I_of_t[t] = sum_vec.dot(I_bar.dot(psi_t))"
   ]
  },
  {
   "cell_type": "code",
   "execution_count": 14,
   "id": "9882ebcb",
   "metadata": {},
   "outputs": [],
   "source": [
    "folderpath = \"../simulationdata\"\n",
    "np.savetxt(f\"{folderpath}/A_of_t_homodimer_N{N}.csv\",A_of_t,delimiter=\",\")\n",
    "np.savetxt(f\"{folderpath}/I_of_t_homodimer_N{N}.csv\",I_of_t,delimiter=\",\")"
   ]
  }
 ],
 "metadata": {
  "kernelspec": {
   "display_name": "Python 3 (ipykernel)",
   "language": "python",
   "name": "python3"
  },
  "language_info": {
   "codemirror_mode": {
    "name": "ipython",
    "version": 3
   },
   "file_extension": ".py",
   "mimetype": "text/x-python",
   "name": "python",
   "nbconvert_exporter": "python",
   "pygments_lexer": "ipython3",
   "version": "3.8.11"
  },
  "varInspector": {
   "cols": {
    "lenName": 16,
    "lenType": 16,
    "lenVar": 40
   },
   "kernels_config": {
    "python": {
     "delete_cmd_postfix": "",
     "delete_cmd_prefix": "del ",
     "library": "var_list.py",
     "varRefreshCmd": "print(var_dic_list())"
    },
    "r": {
     "delete_cmd_postfix": ") ",
     "delete_cmd_prefix": "rm(",
     "library": "var_list.r",
     "varRefreshCmd": "cat(var_dic_list()) "
    }
   },
   "types_to_exclude": [
    "module",
    "function",
    "builtin_function_or_method",
    "instance",
    "_Feature"
   ],
   "window_display": false
  }
 },
 "nbformat": 4,
 "nbformat_minor": 5
}
