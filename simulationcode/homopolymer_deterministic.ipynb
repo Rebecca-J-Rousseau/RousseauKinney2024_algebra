{
 "cells": [
  {
   "cell_type": "markdown",
   "id": "c290c76f",
   "metadata": {},
   "source": [
    "© 2024 Rebecca J. Rousseau and Justin B. Kinney, *Algebraic and diagrammatic methods for the rule-based modeling of multi-particle complexes*. This work is licensed under a [Creative Commons Attribution License CC-BY 4.0](https://creativecommons.org/licenses/by/4.0/). All code contained herein is licensed under an [MIT license](https://opensource.org/licenses/MIT).\n",
    "___\n",
    "\n",
    "# Deterministic simulation for homopolymer system"
   ]
  },
  {
   "cell_type": "code",
   "execution_count": 1,
   "id": "eeb474bb",
   "metadata": {
    "ExecuteTime": {
     "end_time": "2023-01-25T18:04:36.220146Z",
     "start_time": "2023-01-25T18:04:35.868243Z"
    }
   },
   "outputs": [],
   "source": [
    "import numpy as np\n",
    "from itertools import combinations, permutations\n",
    "from scipy import sparse, linalg"
   ]
  },
  {
   "cell_type": "code",
   "execution_count": 2,
   "id": "bd485af3",
   "metadata": {
    "ExecuteTime": {
     "end_time": "2023-01-25T18:04:36.290986Z",
     "start_time": "2023-01-25T18:04:36.283835Z"
    }
   },
   "outputs": [],
   "source": [
    "# Define \"dictionary\" of mathematical operators tracking field formation (hat), degradation (check), presence (bar),\n",
    "# and absence (tilde), as well as identity (id) and \"zero\" (zero) operators.\n",
    "\n",
    "mat_dict = dict(\n",
    "    hat=sparse.csr_matrix(np.array([[0, 1], [0, 0]])),\n",
    "    bar=sparse.csr_matrix(np.array([[1, 0], [0, 0]])),\n",
    "    tilde=sparse.csr_matrix(np.array([[0, 0], [0, 1]])),\n",
    "    check=sparse.csr_matrix(np.array([[0, 0], [1, 0]])),\n",
    "    id=sparse.csr_matrix(np.array([[1, 0], [0, 1]])),\n",
    "    zero=sparse.csr_matrix(np.array([[0, 0], [0, 0]]))\n",
    ")"
   ]
  },
  {
   "cell_type": "code",
   "execution_count": 3,
   "id": "e043839b",
   "metadata": {
    "ExecuteTime": {
     "end_time": "2023-01-25T18:04:36.797091Z",
     "start_time": "2023-01-25T18:04:36.782504Z"
    }
   },
   "outputs": [],
   "source": [
    "def multikron(mat_list):\n",
    "    \"\"\"Computes Kronecker product of multiple matrices\"\"\"\n",
    "    n = len(mat_list)\n",
    "    assert n>0\n",
    "    out_mat = mat_list[0]\n",
    "    for mat in mat_list[1:]:\n",
    "        out_mat = sparse.kron(out_mat, mat, format='csc')\n",
    "    return out_mat"
   ]
  },
  {
   "cell_type": "code",
   "execution_count": 4,
   "id": "a1356987",
   "metadata": {
    "ExecuteTime": {
     "end_time": "2023-01-25T18:04:37.221903Z",
     "start_time": "2023-01-25T18:04:37.215961Z"
    }
   },
   "outputs": [],
   "source": [
    "N = 3 # Total number of possible monomer internal states\n",
    "K = int(N + 2*N + N**2) # Total number of mode operator fields\n",
    "r_A_cre = 2 # Rate of monomer creation\n",
    "r_A_deg = 2 # Rate of monomer degradation\n",
    "r_I_cre = 0.5 # Rate of bond formation\n",
    "r_I_deg = 1 # Rate of bond degradation"
   ]
  },
  {
   "cell_type": "code",
   "execution_count": 5,
   "id": "29b610e5",
   "metadata": {
    "ExecuteTime": {
     "end_time": "2023-01-25T18:04:37.722921Z",
     "start_time": "2023-01-25T18:04:37.714224Z"
    }
   },
   "outputs": [],
   "source": [
    "# A_i: k = 1 .. N (monomer mode operators)\n",
    "# a_i: k = N+1 .. 2N (monomer binding site mode operators)\n",
    "# b_i: k = 2N+1 .. 3N (monomer binding site mode operators)\n",
    "# I_ij: k = 3N+1 .. 3N+N(N-1)/2 (bond mode operators)\n",
    "\n",
    "### Create single-digit index for each bond type:\n",
    "\n",
    "# Define all possible monomer index bond pairs\n",
    "\n",
    "ij_list = [(i,j) for i in range(N) for j in range(N)]\n",
    "\n",
    "# Assign index bond pair to a single-digit index label\n",
    "\n",
    "dk_to_ij_dict = dict([(dk, ij) for dk, ij in enumerate(ij_list)])\n",
    "\n",
    "ij_to_dk_dict = dict(zip(dk_to_ij_dict.values(), dk_to_ij_dict.keys()))"
   ]
  },
  {
   "cell_type": "code",
   "execution_count": 6,
   "id": "4cf4cece",
   "metadata": {
    "ExecuteTime": {
     "end_time": "2023-01-25T18:04:38.238560Z",
     "start_time": "2023-01-25T18:04:38.195869Z"
    }
   },
   "outputs": [],
   "source": [
    "def op(field_name, field_type, field_index):\n",
    "    if field_name=='A':\n",
    "        i = field_index\n",
    "        k = i\n",
    "    \n",
    "    elif field_name=='a':\n",
    "        i = field_index\n",
    "        k = N+i\n",
    "        \n",
    "    elif field_name=='b':\n",
    "        i = field_index\n",
    "        k = 2*N+i\n",
    "        \n",
    "    elif field_name=='I':\n",
    "        i,j = field_index\n",
    "        k = 3*N + ij_to_dk_dict[(i,j)]\n",
    "        \n",
    "    return multikron([mat_dict[field_type] if l==k else mat_dict['id'] for l in range(K)])"
   ]
  },
  {
   "cell_type": "code",
   "execution_count": 7,
   "id": "45a9bb9f",
   "metadata": {},
   "outputs": [],
   "source": [
    "# Compute transition operator W\n",
    "\n",
    "W = multikron([mat_dict['zero']]*K)\n",
    "for i in range(N):\n",
    "    W += r_A_cre*(op('A','hat',i) - op('A','tilde',i))*op('a','tilde',i)*op('b','tilde',i)*op('I','tilde',(i,i)) + \\\n",
    "         r_A_deg*(op('A','check',i) - op('A','bar',i))*op('a','tilde',i)*op('b','tilde',i)*op('I','tilde',(i,i))\n",
    "for i in range(N):\n",
    "    for j in range(N):\n",
    "        W += r_I_cre*op('A','bar',i)*op('A','bar',j)*(op('a','hat',i)*op('b','hat',j)*op('I','hat',(i,j))-\\\n",
    "                      op('a','tilde',i)*op('b','tilde',j)*op('I','tilde',(i,j))) +\\\n",
    "             r_I_deg*op('A','bar',i)*op('A','bar',j)*(op('a','check',i)*op('b','check',j)*op('I','check',(i,j)) -\\\n",
    "                      op('a','bar',i)*op('b','bar',j)*op('I','bar',(i,j)))"
   ]
  },
  {
   "cell_type": "code",
   "execution_count": 8,
   "id": "f7e5514d",
   "metadata": {},
   "outputs": [],
   "source": [
    "# Compute A counting matrix\n",
    "\n",
    "A_bar = multikron([mat_dict['zero']]*K)\n",
    "for i in range(N):\n",
    "    A_bar += op('A','bar',i)*op('a','tilde',i)*op('b','tilde',i)*op('I','tilde',(i,i))  # count FREE monomers"
   ]
  },
  {
   "cell_type": "code",
   "execution_count": 9,
   "id": "7066471b",
   "metadata": {},
   "outputs": [],
   "source": [
    "# Compute 2-chain counting matrix\n",
    "\n",
    "nn = 2\n",
    "\n",
    "two_chain_bar = multikron([mat_dict['zero']]*K)\n",
    "for k in range(len(ij_list)):\n",
    "    if ij_list[k][0]!=ij_list[k][1]:\n",
    "        Ipart_bar2c = multikron([mat_dict['id']]*K)\n",
    "        Ipart_bar2c *= op('A','bar',ij_list[k][0])*op('A','bar',ij_list[k][1])*op('I','bar',ij_list[k])*op('a','bar',ij_list[k][0])*op('b','bar',ij_list[k][1])*op('a','tilde',ij_list[k][1])*op('b','tilde',ij_list[k][0])\n",
    "        two_chain_bar += Ipart_bar2c"
   ]
  },
  {
   "cell_type": "code",
   "execution_count": 11,
   "id": "9b8257cc",
   "metadata": {},
   "outputs": [],
   "source": [
    "# Compute 3-chain counting matrix\n",
    "\n",
    "nn = 3\n",
    "mon_list = [i for i in range(N)]\n",
    "comb = list(permutations(mon_list,nn))\n",
    "    \n",
    "three_chain_bar = multikron([mat_dict['zero']]*K)\n",
    "for k in range(len(comb)):\n",
    "    Ipart_bar3c = multikron([mat_dict['id']]*K)\n",
    "    Ipart_bar3c *= op('A','bar',comb[k][0])*op('A','bar',comb[k][1])*op('A','bar',comb[k][2])*op('I','bar',(comb[k][0],comb[k][1]))*op('I','bar',(comb[k][1],comb[k][2]))*op('a','bar',comb[k][0])*op('b','bar',comb[k][1])*op('a','bar',comb[k][1])*op('b','bar',comb[k][2])*op('a','tilde',comb[k][2])*op('b','tilde',comb[k][0])\n",
    "    three_chain_bar += Ipart_bar3c"
   ]
  },
  {
   "cell_type": "code",
   "execution_count": 12,
   "id": "525fc1e6",
   "metadata": {},
   "outputs": [],
   "source": [
    "# Compute 1-ring counting matrix\n",
    "\n",
    "A_ring_bar = multikron([mat_dict['zero']]*K)\n",
    "for i in range(N):\n",
    "    A_ring_bar += op('I','bar',(i,i))"
   ]
  },
  {
   "cell_type": "code",
   "execution_count": 13,
   "id": "41ff1ade",
   "metadata": {},
   "outputs": [],
   "source": [
    "# Compute 2-ring counting matrix\n",
    "\n",
    "nn = 2\n",
    "two_ring_bar = multikron([mat_dict['zero']]*K)\n",
    "for k in range(len(ij_list)):\n",
    "    if ij_list[k][0] < ij_list[k][1]:\n",
    "        Ipart_bar2r = multikron([mat_dict['id']]*K)\n",
    "        Ipart_bar2r = op('A','bar',comb[k][0])*op('A','bar',comb[k][1])*op('I','bar',ij_list[k])*op('I','bar',(ij_list[k][1],ij_list[k][0]))\n",
    "        two_ring_bar += Ipart_bar2r"
   ]
  },
  {
   "cell_type": "code",
   "execution_count": 14,
   "id": "2296bce5",
   "metadata": {},
   "outputs": [],
   "source": [
    "### Compute n-ring counting matrix\n",
    "\n",
    "nn = 3\n",
    "\n",
    "# List all unique sets of 'nn' selected monomers\n",
    "\n",
    "mon_list2 = [i for i in range(N)]\n",
    "res2 = list(combinations(mon_list2, nn))\n",
    "\n",
    "# For a given set, list all possible bond index pairs, then choose 'nn-1' for chain or 'nn' for ring\n",
    "\n",
    "three_ring_bar = multikron([mat_dict['zero']]*K)\n",
    "for k in range(len(res2)):\n",
    "    Ipart_bar3r = multikron([mat_dict['id']]*K)\n",
    "    ij_bond_list2 = [(i,j) for i in list(res2[k]) for j in list(res2[k]) if j != i]\n",
    "    res_sub2 = list(combinations(ij_bond_list2,nn))\n",
    "    for m1 in range(len(list(res2[k]))):\n",
    "        Ipart_bar3r *= op('A','bar',list(res2[k])[m1])\n",
    "    for m2 in range(len(res_sub2)):\n",
    "        a_listring = [res_sub2[m2][t][0] for t in range(nn)]\n",
    "        b_listring = [res_sub2[m2][tt][1] for tt in range(nn)]\n",
    "        if ((len(set(a_listring)) == len(a_listring)) and (len(set(b_listring)) == len(b_listring))):\n",
    "            res_concat2 = ()\n",
    "            res_concat_unique2 = set()\n",
    "            for ss in range(nn):\n",
    "                res_concat2 += res_sub2[m2][ss]\n",
    "            res_concat_unique2 = set(res_concat2)\n",
    "            if res_concat_unique2 == set(res2[k]):\n",
    "                for ss in range(nn):\n",
    "                    Ipart_bar3r *= op('I','bar',res_sub2[m2][ss])*op('a','bar',res_sub2[m2][ss][0])*op('b','bar',res_sub2[m2][ss][1])\n",
    "            three_ring_bar += Ipart_bar3r"
   ]
  },
  {
   "cell_type": "code",
   "execution_count": 15,
   "id": "60846129",
   "metadata": {
    "ExecuteTime": {
     "end_time": "2023-01-25T18:04:58.388284Z",
     "start_time": "2023-01-25T18:04:58.367191Z"
    }
   },
   "outputs": [],
   "source": [
    "# Construct ground state vector\n",
    "\n",
    "ground_el = sparse.csc_matrix(np.array([0, 1]))\n",
    "ground_state = multikron([ground_el]*K)\n",
    "ground_state = ground_state.toarray().squeeze()"
   ]
  },
  {
   "cell_type": "code",
   "execution_count": 16,
   "id": "c161485c",
   "metadata": {},
   "outputs": [],
   "source": [
    "# Construct sum vector\n",
    "\n",
    "sum_vec = np.ones(2**K).T"
   ]
  },
  {
   "cell_type": "code",
   "execution_count": 17,
   "id": "904b8a09",
   "metadata": {
    "ExecuteTime": {
     "end_time": "2023-01-25T18:04:59.623838Z",
     "start_time": "2023-01-25T18:04:59.436294Z"
    },
    "scrolled": true
   },
   "outputs": [],
   "source": [
    "# Compute the number of A after time T\n",
    "\n",
    "from scipy.sparse.linalg import expm_multiply\n",
    "t_stop = 10\n",
    "num_timepoints = 2001\n",
    "psi_array = expm_multiply(W,ground_state.T,start=0.0, stop=t_stop, num=num_timepoints)"
   ]
  },
  {
   "cell_type": "code",
   "execution_count": 18,
   "id": "dafc7c51",
   "metadata": {
    "ExecuteTime": {
     "end_time": "2023-01-25T18:08:32.506835Z",
     "start_time": "2023-01-25T18:08:32.476079Z"
    }
   },
   "outputs": [],
   "source": [
    "A_of_t = np.zeros(num_timepoints)\n",
    "Aring_of_t = np.zeros(num_timepoints)\n",
    "twochain_of_t = np.zeros(num_timepoints)\n",
    "tworing_of_t = np.zeros(num_timepoints)\n",
    "threechain_of_t = np.zeros(num_timepoints)\n",
    "threering_of_t = np.zeros(num_timepoints)\n",
    "for t in range(num_timepoints):\n",
    "    psi_t = psi_array[t,:]\n",
    "    A_of_t[t] = sum_vec.dot(A_bar.dot(psi_t))\n",
    "    Aring_of_t[t] = sum_vec.dot(A_ring_bar.dot(psi_t))\n",
    "    twochain_of_t[t] = sum_vec.dot(two_chain_bar.dot(psi_t))\n",
    "    tworing_of_t[t] = sum_vec.dot(two_ring_bar.dot(psi_t))\n",
    "    threechain_of_t[t] = sum_vec.dot(three_chain_bar.dot(psi_t))\n",
    "    threering_of_t[t] = sum_vec.dot(three_ring_bar.dot(psi_t))"
   ]
  },
  {
   "cell_type": "code",
   "execution_count": 19,
   "id": "ce0fbb5b",
   "metadata": {},
   "outputs": [],
   "source": [
    "folderpath = \"../simulationdata\"\n",
    "np.savetxt(f\"{folderpath}/A_of_t_homopol_N{N}.csv\",A_of_t,delimiter=\",\")\n",
    "np.savetxt(f\"{folderpath}/Aring_of_t_homopol_N{N}.csv\",Aring_of_t,delimiter=\",\")\n",
    "np.savetxt(f\"{folderpath}/twochain_of_t_homopol_N{N}.csv\",twochain_of_t,delimiter=\",\")\n",
    "np.savetxt(f\"{folderpath}/tworing_of_t_homopol_N{N}.csv\",tworing_of_t,delimiter=\",\")\n",
    "np.savetxt(f\"{folderpath}/threechain_of_t_homopol_N{N}.csv\",threechain_of_t,delimiter=\",\")\n",
    "np.savetxt(f\"{folderpath}/threering_of_t_homopol_N{N}.csv\",threering_of_t,delimiter=\",\")"
   ]
  }
 ],
 "metadata": {
  "kernelspec": {
   "display_name": "Python 3 (ipykernel)",
   "language": "python",
   "name": "python3"
  },
  "language_info": {
   "codemirror_mode": {
    "name": "ipython",
    "version": 3
   },
   "file_extension": ".py",
   "mimetype": "text/x-python",
   "name": "python",
   "nbconvert_exporter": "python",
   "pygments_lexer": "ipython3",
   "version": "3.8.11"
  },
  "varInspector": {
   "cols": {
    "lenName": 16,
    "lenType": 16,
    "lenVar": 40
   },
   "kernels_config": {
    "python": {
     "delete_cmd_postfix": "",
     "delete_cmd_prefix": "del ",
     "library": "var_list.py",
     "varRefreshCmd": "print(var_dic_list())"
    },
    "r": {
     "delete_cmd_postfix": ") ",
     "delete_cmd_prefix": "rm(",
     "library": "var_list.r",
     "varRefreshCmd": "cat(var_dic_list()) "
    }
   },
   "types_to_exclude": [
    "module",
    "function",
    "builtin_function_or_method",
    "instance",
    "_Feature"
   ],
   "window_display": false
  }
 },
 "nbformat": 4,
 "nbformat_minor": 5
}
