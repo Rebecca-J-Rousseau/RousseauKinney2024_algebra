{
 "cells": [
  {
   "cell_type": "markdown",
   "id": "8904bbb9",
   "metadata": {},
   "source": [
    "© 2024 Rebecca J. Rousseau and Justin B. Kinney, *Algebraic and diagrammatic methods for the rule-based modeling of multi-particle complexes*. This work is licensed under a [Creative Commons Attribution License CC-BY 4.0](https://creativecommons.org/licenses/by/4.0/). All code contained herein is licensed under an [MIT license](https://opensource.org/licenses/MIT).\n",
    "___\n",
    "\n",
    "# Deterministic simulation for monomer system"
   ]
  },
  {
   "cell_type": "code",
   "execution_count": 1,
   "id": "eeb474bb",
   "metadata": {
    "ExecuteTime": {
     "end_time": "2023-01-22T21:01:35.168099Z",
     "start_time": "2023-01-22T21:01:35.011894Z"
    }
   },
   "outputs": [],
   "source": [
    "import numpy as np\n",
    "from itertools import combinations\n",
    "from scipy import sparse, linalg"
   ]
  },
  {
   "cell_type": "code",
   "execution_count": 2,
   "id": "bd485af3",
   "metadata": {
    "ExecuteTime": {
     "end_time": "2023-01-22T21:01:35.177876Z",
     "start_time": "2023-01-22T21:01:35.170589Z"
    }
   },
   "outputs": [],
   "source": [
    "# Define \"dictionary\" of mathematical operators tracking field formation (hat), degradation (check), presence (bar),\n",
    "# and absence (tilde), as well as identity (id) and \"zero\" (zero) operators.\n",
    "\n",
    "A_hat_el = sparse.csr_matrix(np.array([[0, 1], [0, 0]]))\n",
    "A_bar_el = sparse.csr_matrix(np.array([[1, 0], [0, 0]]))\n",
    "A_tilde_el = sparse.csr_matrix(np.array([[0, 0], [0, 1]]))\n",
    "A_check_el = sparse.csr_matrix(np.array([[0, 0], [1, 0]]))\n",
    "I_el = sparse.csr_matrix(np.array([[1, 0], [0, 1]]))\n",
    "zero_el = sparse.csr_matrix(np.array([[0, 0], [0, 0]]))"
   ]
  },
  {
   "cell_type": "code",
   "execution_count": 3,
   "id": "e043839b",
   "metadata": {
    "ExecuteTime": {
     "end_time": "2023-01-22T21:01:35.203638Z",
     "start_time": "2023-01-22T21:01:35.190600Z"
    }
   },
   "outputs": [],
   "source": [
    "def multikron(mat_list):\n",
    "    \"\"\"Computes Kronecker product of multiple matrices\"\"\"\n",
    "    n = len(mat_list)\n",
    "    assert n>0\n",
    "    out_mat = mat_list[0]\n",
    "    for mat in mat_list[1:]:\n",
    "        out_mat = sparse.kron(out_mat, mat, format='csc')\n",
    "    return out_mat"
   ]
  },
  {
   "cell_type": "code",
   "execution_count": 4,
   "id": "4cf4cece",
   "metadata": {
    "ExecuteTime": {
     "end_time": "2023-01-22T21:01:35.212943Z",
     "start_time": "2023-01-22T21:01:35.209263Z"
    }
   },
   "outputs": [],
   "source": [
    "def op_i(mat, i, N):\n",
    "    \"\"\"Converts template matrix to full operator based on index\"\"\"\n",
    "    return multikron([mat if j==i else I_el for j in range(N)])"
   ]
  },
  {
   "cell_type": "code",
   "execution_count": 5,
   "id": "83c5989b",
   "metadata": {
    "ExecuteTime": {
     "end_time": "2023-01-22T21:01:36.148740Z",
     "start_time": "2023-01-22T21:01:35.242693Z"
    }
   },
   "outputs": [],
   "source": [
    "# Set number of internal indices and rates\n",
    "\n",
    "N = 20 # Total number of possible monomer internal states\n",
    "r_A_cre = 1 # Rate of monomer creation\n",
    "r_A_deg = 1 # Rate of monomer degradation"
   ]
  },
  {
   "cell_type": "code",
   "execution_count": null,
   "id": "d833d98d",
   "metadata": {},
   "outputs": [],
   "source": [
    "# Compute transition operator W\n",
    "\n",
    "W = multikron([zero_el]*N)\n",
    "for i in range(N):\n",
    "    W += r_A_cre*op_i(A_hat_el-A_tilde_el, i, N) + r_A_deg*op_i(A_check_el-A_bar_el, i, N)"
   ]
  },
  {
   "cell_type": "code",
   "execution_count": 6,
   "id": "456c332f",
   "metadata": {
    "ExecuteTime": {
     "end_time": "2023-01-22T21:01:36.340971Z",
     "start_time": "2023-01-22T21:01:36.149540Z"
    }
   },
   "outputs": [],
   "source": [
    "# Compute A counting matrix\n",
    "\n",
    "A_bar = multikron([zero_el]*N)\n",
    "for i in range(N):\n",
    "    A_bar += op_i(A_bar_el, i, N)"
   ]
  },
  {
   "cell_type": "code",
   "execution_count": 7,
   "id": "60846129",
   "metadata": {
    "ExecuteTime": {
     "end_time": "2023-01-22T21:01:36.350331Z",
     "start_time": "2023-01-22T21:01:36.344816Z"
    }
   },
   "outputs": [],
   "source": [
    "# Construct ground state vector\n",
    "\n",
    "ground_el = sparse.csc_matrix(np.array([0, 1]))\n",
    "ground_state = multikron([ground_el]*N)\n",
    "ground_state = ground_state.toarray().squeeze()"
   ]
  },
  {
   "cell_type": "code",
   "execution_count": 8,
   "id": "0a11bcf9",
   "metadata": {},
   "outputs": [],
   "source": [
    "# Construct |sum> vector to take inner product for calculating expectation values\n",
    "\n",
    "sum_vec = np.ones(2**N).T"
   ]
  },
  {
   "cell_type": "code",
   "execution_count": 9,
   "id": "904b8a09",
   "metadata": {
    "ExecuteTime": {
     "end_time": "2023-01-22T21:01:42.321482Z",
     "start_time": "2023-01-22T21:01:36.355641Z"
    }
   },
   "outputs": [],
   "source": [
    "# Compute evolving system state function\n",
    "\n",
    "from scipy.sparse.linalg import expm_multiply\n",
    "t_stop = 10\n",
    "num_timepoints = 2001\n",
    "psi_array = expm_multiply(W,ground_state.T,start=0.0, stop=t_stop, num=num_timepoints)"
   ]
  },
  {
   "cell_type": "code",
   "execution_count": 10,
   "id": "dafc7c51",
   "metadata": {
    "ExecuteTime": {
     "end_time": "2023-01-22T21:01:42.583649Z",
     "start_time": "2023-01-22T21:01:42.322245Z"
    }
   },
   "outputs": [],
   "source": [
    "# Compute the number of A at times t\n",
    "\n",
    "A_of_t = np.zeros(num_timepoints)\n",
    "for t in range(num_timepoints):\n",
    "    psi_t = psi_array[t,:]\n",
    "    A_of_t[t] = sum_vec.dot(A_bar.dot(psi_t))"
   ]
  },
  {
   "cell_type": "code",
   "execution_count": 12,
   "id": "5a05859e",
   "metadata": {},
   "outputs": [],
   "source": [
    "folderpath = \"../simulationdata\"\n",
    "np.savetxt(f\"{folderpath}/A_of_t_monomer_N{N}.csv\",A_of_t,delimiter=\",\")"
   ]
  }
 ],
 "metadata": {
  "kernelspec": {
   "display_name": "Python 3 (ipykernel)",
   "language": "python",
   "name": "python3"
  },
  "language_info": {
   "codemirror_mode": {
    "name": "ipython",
    "version": 3
   },
   "file_extension": ".py",
   "mimetype": "text/x-python",
   "name": "python",
   "nbconvert_exporter": "python",
   "pygments_lexer": "ipython3",
   "version": "3.8.11"
  },
  "varInspector": {
   "cols": {
    "lenName": 16,
    "lenType": 16,
    "lenVar": 40
   },
   "kernels_config": {
    "python": {
     "delete_cmd_postfix": "",
     "delete_cmd_prefix": "del ",
     "library": "var_list.py",
     "varRefreshCmd": "print(var_dic_list())"
    },
    "r": {
     "delete_cmd_postfix": ") ",
     "delete_cmd_prefix": "rm(",
     "library": "var_list.r",
     "varRefreshCmd": "cat(var_dic_list()) "
    }
   },
   "types_to_exclude": [
    "module",
    "function",
    "builtin_function_or_method",
    "instance",
    "_Feature"
   ],
   "window_display": false
  }
 },
 "nbformat": 4,
 "nbformat_minor": 5
}
